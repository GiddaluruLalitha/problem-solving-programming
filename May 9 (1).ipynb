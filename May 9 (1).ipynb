{
 "cells": [
  {
   "cell_type": "markdown",
   "metadata": {},
   "source": [
    "# Problem solving and programming\n",
    "## DAY NO - Day 6\n",
    "## DATE - May 9"
   ]
  },
  {
   "cell_type": "markdown",
   "metadata": {},
   "source": [
    "### PROBLEM 1:\n",
    "#### Problem statement:For a given number check If it is divisible by 2 and 3 but not 4\n",
    "#### Constraints-given number will be In the Range [1,1000000000]\n",
    "#### Test cases:\n",
    "* checkDivisibility(6) -> True\n",
    "* checkDivisibility(16) -> False\n",
    "* checkDivisibility(20) -> False"
   ]
  },
  {
   "cell_type": "code",
   "execution_count": 1,
   "metadata": {},
   "outputs": [
    {
     "data": {
      "text/plain": [
       "False"
      ]
     },
     "execution_count": 1,
     "metadata": {},
     "output_type": "execute_result"
    }
   ],
   "source": [
    "def checkDivisibility(n):\n",
    "    if n%2 ==0 and n%3 == 0 and n % 4 !=0:\n",
    "        return True\n",
    "    else:\n",
    "        return False\n",
    "    \n",
    "    \n",
    "checkDivisibility(4)"
   ]
  },
  {
   "cell_type": "markdown",
   "metadata": {},
   "source": [
    "### PROBLEM 2:\n",
    "#### Problem statement:Arithmetic operations"
   ]
  },
  {
   "cell_type": "code",
   "execution_count": 3,
   "metadata": {
    "scrolled": true
   },
   "outputs": [
    {
     "name": "stdout",
     "output_type": "stream",
     "text": [
      "enter a first number2\n",
      "enter a second no3\n",
      "2 + 3 is 5\n",
      "2 - 3 is -1\n",
      "2 * 3 is 6\n",
      "2 / 3 is 0\n",
      "2 % 3 is 2\n"
     ]
    }
   ],
   "source": [
    "n1=int(input(\"enter a first number\"))\n",
    "n2=int(input(\"enter a second no\"))\n",
    "add=n1+n2\n",
    "sub=n1-n2\n",
    "mul=n1*n2\n",
    "div=n1/n2\n",
    "mod=n1%n2\n",
    "print(f\"{n1} + {n2} is {add}\")\n",
    "print(f\"{n1} - {n2} is {sub}\")\n",
    "print(f\"{n1} * {n2} is {mul}\")\n",
    "print(f\"{n1} / {n2} is {int(div)}\")\n",
    "print(f\"{n1} % {n2} is {mod}\")"
   ]
  },
  {
   "cell_type": "markdown",
   "metadata": {},
   "source": [
    "### PROBLEM 3:\n",
    "#### Problem statement:Even or Odd"
   ]
  },
  {
   "cell_type": "code",
   "execution_count": 4,
   "metadata": {},
   "outputs": [
    {
     "name": "stdout",
     "output_type": "stream",
     "text": [
      "enter a number5\n",
      "odd number\n"
     ]
    }
   ],
   "source": [
    "n=int(input(\"enter a number\"))\n",
    "if n%2==0:\n",
    "    print(\"even number\")\n",
    "else:\n",
    "    print(\"odd number\")"
   ]
  },
  {
   "cell_type": "markdown",
   "metadata": {},
   "source": [
    "### PROBLEM 4:\n",
    "#### Problem statement:Greatest of 3 numbers"
   ]
  },
  {
   "cell_type": "code",
   "execution_count": 5,
   "metadata": {},
   "outputs": [
    {
     "name": "stdout",
     "output_type": "stream",
     "text": [
      "enter 1st number  4\n",
      "enter a second number 5\n",
      "enter a 3rd number 6\n",
      "6 is greatest of all\n"
     ]
    }
   ],
   "source": [
    "n1=int(input(\"enter 1st number  \"))\n",
    "n2=int(input(\"enter a second number \"))\n",
    "n3=int(input(\"enter a 3rd number \"))\n",
    "if n1>n2 and n1>n3:\n",
    "    print(f\"{n1} is greatest of all\")\n",
    "elif n2>n1 and n2>n3:\n",
    "    print(f\"{n2} is greatest of all\")\n",
    "else:\n",
    "    print(f\"{n3} is greatest of all\")"
   ]
  },
  {
   "cell_type": "markdown",
   "metadata": {},
   "source": [
    "### PROBLEM 5:\n",
    "#### Problem statement:For a given number check If it is divisible by 2 and 3 but not 4\n",
    "#### Constraints-given number will be In the Range [1,1000000000]\n",
    "#### Test cases:\n",
    "* checkDivisibility(6) -> True\n",
    "* checkDivisibility(16) -> False\n",
    "* checkDivisibility(20) -> False"
   ]
  },
  {
   "cell_type": "code",
   "execution_count": 6,
   "metadata": {},
   "outputs": [
    {
     "data": {
      "text/plain": [
       "False"
      ]
     },
     "execution_count": 6,
     "metadata": {},
     "output_type": "execute_result"
    }
   ],
   "source": [
    "def checkDivisibility(n):\n",
    "    if n%2 ==0 and n%3 == 0 and n % 4 !=0:\n",
    "        return True\n",
    "    else:\n",
    "        return False\n",
    "    \n",
    "    \n",
    "checkDivisibility(4)"
   ]
  },
  {
   "cell_type": "markdown",
   "metadata": {},
   "source": [
    "### PROBLEM 6:\n",
    "#### Problem statement:Given 2 ints, a and b, return True if one if them is 10 or if their sum is 10.\n",
    "#### Constraints-given number will be In the Range [1,100000000]\n",
    "#### Test cases:\n",
    "* makes10(9, 10) → True\n",
    "* makes10(9, 9) → False\n",
    "* makes10(1, 9) → True"
   ]
  },
  {
   "cell_type": "code",
   "execution_count": 7,
   "metadata": {},
   "outputs": [
    {
     "data": {
      "text/plain": [
       "True"
      ]
     },
     "execution_count": 7,
     "metadata": {},
     "output_type": "execute_result"
    }
   ],
   "source": [
    "def makes10(n1,n2):\n",
    "    if n1==10 or n2==10 or n1+n2==10:\n",
    "        return True\n",
    "    else:\n",
    "        return False\n",
    "makes10(10,10)"
   ]
  },
  {
   "cell_type": "markdown",
   "metadata": {},
   "source": [
    "### PROBLEM 7:\n",
    "#### Problem statement:Given 2 int values, return True if one is negative and one is positive. Except if the parameter \"negative\" is True, then return True only if both are negative.\n",
    "#### Test cases:\n",
    "* pos_neg(1, -1, False) → True\n",
    "* pos_neg(-1, 1, False) → True\n",
    "* pos_neg(-4, -5, True) → True\n",
    "* pos_neg(-1, 2, True) --> False\n",
    "* pos_neg(1,1,True)--> False\n",
    "* pos_neg(1,-1,False) -> True\n"
   ]
  },
  {
   "cell_type": "code",
   "execution_count": 8,
   "metadata": {
    "scrolled": true
   },
   "outputs": [
    {
     "name": "stdout",
     "output_type": "stream",
     "text": [
      "True\n",
      "True\n",
      "True\n",
      "False\n",
      "False\n",
      "False\n"
     ]
    }
   ],
   "source": [
    "def pos_neg(n1,n2,b):\n",
    "        return(n1>0 and n2<0  and b== False) or (n1<0 and n2>0 and b==False) or (n1<0 and n2<0 and b==True)\n",
    "           \n",
    "        \n",
    "print(pos_neg(1, -1, False))\n",
    "print(pos_neg(-1, 1, False)) \n",
    "print(pos_neg(-4, -5, True))\n",
    "print(pos_neg(-1, 2, True))\n",
    "print(pos_neg(1, 1, True))\n",
    "print(pos_neg(-1,-1,False))"
   ]
  },
  {
   "cell_type": "markdown",
   "metadata": {},
   "source": [
    "### PROBLEM 8:\n",
    "#### Problem statement:Arithmetic operationsGiven an int n, return True if it is within 10 of 100 or 200. Note: abs(num) computes the absolute value of a number.\n",
    "#### Test cases:\n",
    "* near_hundred(93) → True\n",
    "* near_hundred(90) → True\n",
    "* near_hundred(89) → False"
   ]
  },
  {
   "cell_type": "code",
   "execution_count": 9,
   "metadata": {},
   "outputs": [
    {
     "data": {
      "text/plain": [
       "False"
      ]
     },
     "execution_count": 9,
     "metadata": {},
     "output_type": "execute_result"
    }
   ],
   "source": [
    "def near_hundred(n1):\n",
    "    return (abs(n1)>90 and abs(n1)<110)  or (abs(n1)>190 and abs(n1)<210)\n",
    "                                              \n",
    "near_hundred(93)\n",
    "near_hundred(90)\n",
    "near_hundred(89)"
   ]
  },
  {
   "cell_type": "markdown",
   "metadata": {},
   "source": [
    "### PROBLEM 9:\n",
    "#### Problem statement:random no generator"
   ]
  },
  {
   "cell_type": "code",
   "execution_count": 10,
   "metadata": {},
   "outputs": [
    {
     "data": {
      "text/plain": [
       "30"
      ]
     },
     "execution_count": 10,
     "metadata": {},
     "output_type": "execute_result"
    }
   ],
   "source": [
    "import random\n",
    "random.randrange(2,101,2)"
   ]
  },
  {
   "cell_type": "code",
   "execution_count": 11,
   "metadata": {},
   "outputs": [
    {
     "data": {
      "text/plain": [
       "59"
      ]
     },
     "execution_count": 11,
     "metadata": {},
     "output_type": "execute_result"
    }
   ],
   "source": [
    "import random\n",
    "def randomgen(lb,ub):\n",
    "    return random.randrange(lb,ub,2)\n",
    "randomgen(1,101)"
   ]
  },
  {
   "cell_type": "code",
   "execution_count": 12,
   "metadata": {},
   "outputs": [
    {
     "data": {
      "text/plain": [
       "49"
      ]
     },
     "execution_count": 12,
     "metadata": {},
     "output_type": "execute_result"
    }
   ],
   "source": [
    "from random import randrange\n",
    "def randomgen(lb,ub):\n",
    "    return randrange(lb,ub,1)\n",
    "randomgen(1,101)"
   ]
  },
  {
   "cell_type": "markdown",
   "metadata": {},
   "source": [
    "### PROBLEM 10:\n",
    "#### Problem statement:Calculate the sum of n random numbers in the range of [1,1000000000000000]\n",
    "\n",
    "#### Test cases:\n",
    "* sumrandno(6,1,50)"
   ]
  },
  {
   "cell_type": "code",
   "execution_count": 13,
   "metadata": {},
   "outputs": [
    {
     "data": {
      "text/plain": [
       "7435053558828958"
      ]
     },
     "execution_count": 13,
     "metadata": {},
     "output_type": "execute_result"
    }
   ],
   "source": [
    "import random\n",
    "\n",
    "def sumrandno(n,lb,ub):\n",
    "    sum=0\n",
    "    for i in range(1,n+1):\n",
    "        sum=sum+random.randint(lb,ub)\n",
    "    return sum\n",
    "sumrandno(12,10000000,1000000000000000)"
   ]
  },
  {
   "cell_type": "markdown",
   "metadata": {},
   "source": [
    "### PROBLEM 11:\n",
    "#### Problem statement:Design a procedure to perform Linear search on list of N unsorted unique numbers. It take an array and the key element to be searched and returns the index of the element of key element if found. Else returns -1\n",
    "#### Constraints-\n",
    "* Given number will be in the rangeof[1,10000000000] ### Test Cases--\n",
    "* LinearSearch( a[5,4,3,2,1], 4) -> 1\n",
    "* LinearSearch( a[90, 123, 324, 21, 56], 22) -> -1\n",
    "* LinearSearch( a[321,543,567,789],567) -> 2"
   ]
  },
  {
   "cell_type": "code",
   "execution_count": 14,
   "metadata": {},
   "outputs": [
    {
     "data": {
      "text/plain": [
       "True"
      ]
     },
     "execution_count": 14,
     "metadata": {},
     "output_type": "execute_result"
    }
   ],
   "source": [
    "a=[1,6,4,9,0,6]\n",
    "0 in a"
   ]
  },
  {
   "cell_type": "code",
   "execution_count": 15,
   "metadata": {
    "scrolled": true
   },
   "outputs": [
    {
     "name": "stdout",
     "output_type": "stream",
     "text": [
      "2\n",
      "-1\n",
      "3\n"
     ]
    }
   ],
   "source": [
    "a=[1,6,4,9,0,8]\n",
    "def linearsearch(a,key):\n",
    "    for i in range(1,len(a)):\n",
    "        if(a[i]==key):\n",
    "            return i\n",
    "    return -1\n",
    "print(linearsearch(a,4))\n",
    "print(linearsearch(a,5))\n",
    "print(linearsearch(a,9))"
   ]
  },
  {
   "cell_type": "markdown",
   "metadata": {},
   "source": [
    "### PROBLEM 12:\n",
    "#### Problem statement:printing n natural numbers"
   ]
  },
  {
   "cell_type": "code",
   "execution_count": 16,
   "metadata": {},
   "outputs": [
    {
     "name": "stdout",
     "output_type": "stream",
     "text": [
      "1 2 3 4 5 6 7 8 9 10 "
     ]
    }
   ],
   "source": [
    "def naturalno(n):\n",
    "    for i in range(1,n+1):\n",
    "        print(i, end=' ')\n",
    "naturalno(10)"
   ]
  },
  {
   "cell_type": "markdown",
   "metadata": {},
   "source": [
    "### PROBLEM 13:\n",
    "#### Problem statement:\n",
    "* Factorial of n numbers . #### Test cases:\n",
    "* fact(4) ->24\n",
    "* fact(3) ->6"
   ]
  },
  {
   "cell_type": "code",
   "execution_count": 17,
   "metadata": {},
   "outputs": [
    {
     "data": {
      "text/plain": [
       "24"
      ]
     },
     "execution_count": 17,
     "metadata": {},
     "output_type": "execute_result"
    }
   ],
   "source": [
    "def fact(n):\n",
    "    fact=1\n",
    "    for i in range(1,n+1):\n",
    "        fact=fact*i\n",
    "    return fact\n",
    "fact(4)"
   ]
  },
  {
   "cell_type": "markdown",
   "metadata": {},
   "source": [
    "### PROBLEM 14:\n",
    "#### Problem statement:\n",
    "* Procedure to generate multiplication tables. #### Test cases:\n",
    "* MT(3, 5, 7) -> 3 X 5 = 15 3 X 6 = 18 3 X 7 = 21"
   ]
  },
  {
   "cell_type": "markdown",
   "metadata": {},
   "source": [
    "def mul(n,lb,ub):\n",
    "    for i in range(lb,ub+1):\n",
    "        print(f'{n} * {i} = {n*i}')\n",
    "        \n",
    "mul(5,2,9)"
   ]
  },
  {
   "cell_type": "markdown",
   "metadata": {},
   "source": [
    "### PROBLEM 15:\n",
    "#### Problem statement:Procedure to print the list of factors of a given number.\n",
    "#### Test cases:\n",
    "* FactorList(6) -> 1 2 3 6\n",
    "* FactorList (9) -> 1 3 9\n",
    "* FactorList (19) -> 1 19"
   ]
  },
  {
   "cell_type": "code",
   "execution_count": 19,
   "metadata": {
    "scrolled": true
   },
   "outputs": [
    {
     "name": "stdout",
     "output_type": "stream",
     "text": [
      "1\n",
      "3\n",
      "9\n"
     ]
    }
   ],
   "source": [
    "def factors(n):\n",
    "    for i in range(1,n+1):\n",
    "        if n%i==0:\n",
    "            print(i)\n",
    "factors(9)"
   ]
  },
  {
   "cell_type": "markdown",
   "metadata": {},
   "source": [
    "### PROBLEM 16:\n",
    "#### Problem statement:Procedure to check if a given number is Prime and returns a Boolean value. IsPrime(7) -> True IsPrime(9) -> False\n",
    "#### Test cases:\n",
    "* IsPrime(7) -> True\n",
    "* IsPrime(9) -> False"
   ]
  },
  {
   "cell_type": "code",
   "execution_count": 20,
   "metadata": {},
   "outputs": [
    {
     "data": {
      "text/plain": [
       "False"
      ]
     },
     "execution_count": 20,
     "metadata": {},
     "output_type": "execute_result"
    }
   ],
   "source": [
    "def isprime(n):\n",
    "    count=0\n",
    "    for i in range(2,n):\n",
    "        if n%i==0:\n",
    "            count=count+1\n",
    "    if count==0:\n",
    "        return True\n",
    "    else:\n",
    "        return False\n",
    "isprime(99)"
   ]
  },
  {
   "cell_type": "markdown",
   "metadata": {},
   "source": [
    "### PROBLEM 17:\n",
    "#### Problem statement:Procedure to count the number of digits in a given number.\n",
    "#### Test cases:\n",
    "* CountDigits(123456) -> 6\n",
    "* CountDigits (0) -> 1"
   ]
  },
  {
   "cell_type": "code",
   "execution_count": 21,
   "metadata": {},
   "outputs": [
    {
     "name": "stdout",
     "output_type": "stream",
     "text": [
      "1\n",
      "4\n"
     ]
    }
   ],
   "source": [
    "def countdigits(n):\n",
    "    count=0\n",
    "    if n==0:\n",
    "        return 1\n",
    "    while(n>0):\n",
    "        count=count+1\n",
    "        n=int(n/10)\n",
    "    return count\n",
    "print(countdigits(0))\n",
    "print(countdigits(3452))"
   ]
  },
  {
   "cell_type": "markdown",
   "metadata": {},
   "source": [
    "### PROBLEM 18:\n",
    "#### Problem statement:Procedure to check if a given number is a Perfect Number. ( Perfect number is a number for which the sum of all it's divisors is equal to the number itself) IsPerfect(6) --> True IsPerfect(3) --> False\n",
    "#### Test cases:\n",
    "* IsPerfect(6) --> True\n",
    "* IsPerfect(3) --> False"
   ]
  },
  {
   "cell_type": "code",
   "execution_count": 23,
   "metadata": {},
   "outputs": [],
   "source": [
    "def Isperfect(n):\n",
    "    sum=0\n",
    "    for i in range(1,n):\n",
    "        if n%i==0:\n",
    "            sum=sum+i\n",
    "    if sum==n:\n",
    "        return True\n",
    "    else:\n",
    "        return False"
   ]
  },
  {
   "cell_type": "markdown",
   "metadata": {},
   "source": [
    "### PROBLEM 19:\n",
    "#### Problem statement:Procedure to generate the first N perfect numbers.\n",
    "#### Test cases:\n",
    "* GeneratePerfect(2) -> 6 28\n",
    "* GeneratePerfect (4) -> 6 28 496 8128\n"
   ]
  },
  {
   "cell_type": "code",
   "execution_count": 24,
   "metadata": {},
   "outputs": [
    {
     "name": "stdout",
     "output_type": "stream",
     "text": [
      "6\n",
      "28\n",
      "496\n"
     ]
    }
   ],
   "source": [
    "def perfectno(n):\n",
    "    count=0\n",
    "    i=1\n",
    "    while count!=n:\n",
    "        if(Isperfect(i)==True):\n",
    "            count=count+1\n",
    "            print(i)\n",
    "        i=i+1\n",
    "\n",
    "perfectno(3)"
   ]
  },
  {
   "cell_type": "markdown",
   "metadata": {},
   "source": [
    "### PROBLEM 20:\n",
    "#### Problem statement:Design a procedure calculate the maximum, minimum and average of N numbers\n",
    "#### Test cases:\n",
    "* data( a[1,2,3,4,5] ) -> Max = 5, Min = 1, Avg = 3 \n"
   ]
  },
  {
   "cell_type": "code",
   "execution_count": 25,
   "metadata": {},
   "outputs": [
    {
     "name": "stdout",
     "output_type": "stream",
     "text": [
      "6\n",
      "2\n",
      "4.0\n"
     ]
    }
   ],
   "source": [
    "def calc(a):\n",
    "    print(max(a))\n",
    "    print(min(a))\n",
    "    avg=(min(a)+max(a))/2\n",
    "    print(avg)\n",
    "calc([2,3,4,5,6])"
   ]
  },
  {
   "cell_type": "markdown",
   "metadata": {},
   "source": [
    "### PROBLEM 21:\n",
    "#### Problem statement:Design a procedure to determine if a given string is a Palindrome\n",
    "#### Test cases:\n",
    "* Palindrome(\"racecar\") -> True\n",
    "* Palindrome(\"raptor\") -> False\n",
    "\n"
   ]
  },
  {
   "cell_type": "code",
   "execution_count": 26,
   "metadata": {},
   "outputs": [
    {
     "data": {
      "text/plain": [
       "True"
      ]
     },
     "execution_count": 26,
     "metadata": {},
     "output_type": "execute_result"
    }
   ],
   "source": [
    "def palin(str1):\n",
    "    revstr=str1[len(str1)-1::-1]\n",
    "    if str1==revstr:\n",
    "        return True\n",
    "    else:\n",
    "        return False\n",
    "palin(\"asfsa\")"
   ]
  },
  {
   "cell_type": "code",
   "execution_count": null,
   "metadata": {},
   "outputs": [],
   "source": []
  }
 ],
 "metadata": {
  "kernelspec": {
   "display_name": "Python 3",
   "language": "python",
   "name": "python3"
  },
  "language_info": {
   "codemirror_mode": {
    "name": "ipython",
    "version": 3
   },
   "file_extension": ".py",
   "mimetype": "text/x-python",
   "name": "python",
   "nbconvert_exporter": "python",
   "pygments_lexer": "ipython3",
   "version": "3.7.3"
  }
 },
 "nbformat": 4,
 "nbformat_minor": 2
}
